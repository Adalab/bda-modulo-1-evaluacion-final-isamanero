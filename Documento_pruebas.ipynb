{
 "cells": [
  {
   "cell_type": "code",
   "execution_count": null,
   "metadata": {},
   "outputs": [],
   "source": [
    "class TiendaOnline:\n",
    "\n",
    "    def __init__(self,inventario, ventas_totales):\n",
    "        self.inventario = []\n",
    "        self.ventas_totales =ventas_totales\n",
    "\n",
    "    #Creamos el primer método, que nos permite agregar productos, si existen, actualizar la cantidad y si no existe, lo añade\n",
    "\n",
    "    def agregar_productos(self, nombre, precio, cantidad):\n",
    "            if nombre in self.inventario:\n",
    "                producto ={\"nombre\":nombre, \"precio\":precio,\"cantidad\": cantidad}\n",
    "                self.inventario.append(cantidad)\n",
    "                print(f\"Ya existe el producto {nombre}, actualizo la cantidad en {cantidad} unidades\")\n",
    "            else:\n",
    "                producto ={\"nombre\":nombre, \"precio\":precio,\"cantidad\": cantidad}\n",
    "                self.inventario.append(producto)\n",
    "                print(f\"No existe {nombre} en el inventario. Añadido!\")\n",
    "             # ESTE CÓDIGO ME FUNCIONA, PERO NO ME ACTUALIZA LA CANTIDAD\n",
    "             # ESTE CÓDIGO ME FUNCIONA, PERO NO ME ACTUALIZA LA CANTIDAD\n",
    "\n",
    "    # MÉTODO PARA VER_INVENTARIO\n",
    "\n",
    "    def ver_inventario(self):\n",
    "            print(f\"El inventario es {self.inventario}\") #este me funciona pero no he usado for...mirar!!\n",
    "\n",
    "    # MÉTODO PARA BUSCAR_PRODUCTO\n",
    "\n",
    "    def buscar_producto(self,nombre):\n",
    "        for i in self.inventario:\n",
    "            if i[\"nombre\"] == nombre:\n",
    "                print(f\"{nombre} está en el inventario\")\n",
    "                return\n",
    "        \n",
    "        print(f\"No se encuentra el producto\")\n",
    "    # MÉTODO PARA ACTUALIZAR_STOCK\n",
    "    # MÉTODO PARA ELIMINAR_PRODUCTO\n",
    "    # MÉTODO PARA CALCULAR_VALOR_INVENTARIO  \n"
   ]
  },
  {
   "cell_type": "code",
   "execution_count": 11,
   "metadata": {},
   "outputs": [],
   "source": [
    "tienda = TiendaOnline([],0)"
   ]
  },
  {
   "cell_type": "code",
   "execution_count": 12,
   "metadata": {},
   "outputs": [
    {
     "name": "stdout",
     "output_type": "stream",
     "text": [
      "No existe camisa en el inventario. Añadido!\n"
     ]
    }
   ],
   "source": [
    "tienda.agregar_productos(\"camisa\",20,30)"
   ]
  },
  {
   "cell_type": "code",
   "execution_count": 13,
   "metadata": {},
   "outputs": [
    {
     "name": "stdout",
     "output_type": "stream",
     "text": [
      "No existe pantalon en el inventario. Añadido!\n"
     ]
    }
   ],
   "source": [
    "tienda.agregar_productos(\"pantalon\",40,60)"
   ]
  },
  {
   "cell_type": "code",
   "execution_count": 14,
   "metadata": {},
   "outputs": [
    {
     "name": "stdout",
     "output_type": "stream",
     "text": [
      "No existe camisa en el inventario. Añadido!\n"
     ]
    }
   ],
   "source": [
    "tienda.agregar_productos(\"camisa\",20,50)"
   ]
  },
  {
   "cell_type": "code",
   "execution_count": 15,
   "metadata": {},
   "outputs": [
    {
     "name": "stdout",
     "output_type": "stream",
     "text": [
      "No existe sudadera en el inventario. Añadido!\n"
     ]
    }
   ],
   "source": [
    "tienda.agregar_productos(\"sudadera\",25,90)"
   ]
  },
  {
   "cell_type": "code",
   "execution_count": 16,
   "metadata": {},
   "outputs": [
    {
     "data": {
      "text/plain": [
       "{'inventario': [{'nombre': 'camisa', 'precio': 20, 'cantidad': 30},\n",
       "  {'nombre': 'pantalon', 'precio': 40, 'cantidad': 60},\n",
       "  {'nombre': 'camisa', 'precio': 20, 'cantidad': 50},\n",
       "  {'nombre': 'sudadera', 'precio': 25, 'cantidad': 90}],\n",
       " 'ventas_totales': 0}"
      ]
     },
     "execution_count": 16,
     "metadata": {},
     "output_type": "execute_result"
    }
   ],
   "source": [
    "tienda.__dict__"
   ]
  },
  {
   "cell_type": "code",
   "execution_count": 17,
   "metadata": {},
   "outputs": [
    {
     "name": "stdout",
     "output_type": "stream",
     "text": [
      "El inventario es [{'nombre': 'camisa', 'precio': 20, 'cantidad': 30}, {'nombre': 'pantalon', 'precio': 40, 'cantidad': 60}, {'nombre': 'camisa', 'precio': 20, 'cantidad': 50}, {'nombre': 'sudadera', 'precio': 25, 'cantidad': 90}]\n"
     ]
    }
   ],
   "source": [
    "tienda.ver_inventario()"
   ]
  },
  {
   "cell_type": "code",
   "execution_count": 8,
   "metadata": {},
   "outputs": [
    {
     "data": {
      "text/plain": [
       "{'inventario': [{'nombre': 'camisa', 'precio': 20, 'cantidad': 30},\n",
       "  {'nombre': 'pantalon', 'precio': 40, 'cantidad': 60},\n",
       "  {'nombre': 'camisa', 'precio': 20, 'cantidad': 50},\n",
       "  {'nombre': 'sudadera', 'precio': 25, 'cantidad': 90}],\n",
       " 'ventas_totales': 0}"
      ]
     },
     "execution_count": 8,
     "metadata": {},
     "output_type": "execute_result"
    }
   ],
   "source": [
    "tienda.__dict__"
   ]
  },
  {
   "cell_type": "code",
   "execution_count": 11,
   "metadata": {},
   "outputs": [
    {
     "name": "stdout",
     "output_type": "stream",
     "text": [
      "El producto que buscas no existe\n",
      "El producto que buscas no existe\n",
      "El producto que buscas no existe\n",
      "El producto que buscas no existe\n"
     ]
    }
   ],
   "source": [
    "tienda.buscar_producto(\"camisa\")"
   ]
  }
 ],
 "metadata": {
  "kernelspec": {
   "display_name": "Python 3",
   "language": "python",
   "name": "python3"
  },
  "language_info": {
   "codemirror_mode": {
    "name": "ipython",
    "version": 3
   },
   "file_extension": ".py",
   "mimetype": "text/x-python",
   "name": "python",
   "nbconvert_exporter": "python",
   "pygments_lexer": "ipython3",
   "version": "3.12.7"
  }
 },
 "nbformat": 4,
 "nbformat_minor": 2
}
