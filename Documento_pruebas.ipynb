{
 "cells": [
  {
   "cell_type": "code",
   "execution_count": 18,
   "metadata": {},
   "outputs": [],
   "source": [
    "class TiendaOnline:\n",
    "\n",
    "    def __init__(self,inventario, ventas_totales):\n",
    "        self.inventario = []\n",
    "        self.ventas_totales =ventas_totales\n",
    "\n",
    "    #Creamos el primer método, que nos permite agregar productos, si existen, actualizar la cantidad y si no existe, lo añade\n",
    "\n",
    "    def agregar_productos(self, nombre, precio, cantidad):\n",
    "            if nombre in self.inventario:\n",
    "                producto ={\"nombre\":nombre, \"precio\":precio,\"cantidad\": cantidad}\n",
    "                self.inventario.append(cantidad)\n",
    "                print(f\"Ya existe el producto {nombre}, actualizo la cantidad en {cantidad} unidades\")\n",
    "            else:\n",
    "                producto ={\"nombre\":nombre, \"precio\":precio,\"cantidad\": cantidad}\n",
    "                self.inventario.append(producto)\n",
    "                print(f\"No existe {nombre} en el inventario. Añadido!\")\n",
    "             # ESTE CÓDIGO ME FUNCIONA, PERO NO ME ACTUALIZA LA CANTIDAD\n",
    "             # ESTE CÓDIGO ME FUNCIONA, PERO NO ME ACTUALIZA LA CANTIDAD\n",
    "\n",
    "    # MÉTODO PARA VER_INVENTARIO\n",
    "\n",
    "    def ver_inventario(self):\n",
    "            print(f\"El inventario es {self.inventario}\") #este me funciona pero no he usado for...mirar!!\n",
    "\n",
    "    # MÉTODO PARA BUSCAR_PRODUCTO\n",
    "\n",
    "    def buscar_producto(self,nombre):\n",
    "        for i in self.inventario:\n",
    "            if i[\"nombre\"] == nombre:\n",
    "                print(f\"{nombre} está en el inventario\")\n",
    "                return\n",
    "        \n",
    "        print(f\"No se encuentra el producto\")\n",
    "    # MÉTODO PARA ACTUALIZAR_STOCK\n",
    "    # MÉTODO PARA ELIMINAR_PRODUCTO\n",
    "    # MÉTODO PARA CALCULAR_VALOR_INVENTARIO  \n"
   ]
  },
  {
   "cell_type": "code",
   "execution_count": 19,
   "metadata": {},
   "outputs": [],
   "source": [
    "tienda = TiendaOnline([],0)"
   ]
  },
  {
   "cell_type": "code",
   "execution_count": null,
   "metadata": {},
   "outputs": [],
   "source": [
    "tienda = TiendaOnline([],0)"
   ]
  },
  {
   "cell_type": "code",
   "execution_count": 20,
   "metadata": {},
   "outputs": [
    {
     "name": "stdout",
     "output_type": "stream",
     "text": [
      "No existe camisa en el inventario. Añadido!\n"
     ]
    }
   ],
   "source": [
    "tienda.agregar_productos(\"camisa\",20,30)"
   ]
  },
  {
   "cell_type": "code",
   "execution_count": 21,
   "metadata": {},
   "outputs": [
    {
     "name": "stdout",
     "output_type": "stream",
     "text": [
      "No existe pantalon en el inventario. Añadido!\n"
     ]
    }
   ],
   "source": [
    "tienda.agregar_productos(\"pantalon\",40,60)"
   ]
  },
  {
   "cell_type": "code",
   "execution_count": 22,
   "metadata": {},
   "outputs": [
    {
     "name": "stdout",
     "output_type": "stream",
     "text": [
      "No existe camisa en el inventario. Añadido!\n"
     ]
    }
   ],
   "source": [
    "tienda.agregar_productos(\"camisa\",20,50)"
   ]
  },
  {
   "cell_type": "code",
   "execution_count": 15,
   "metadata": {},
   "outputs": [
    {
     "name": "stdout",
     "output_type": "stream",
     "text": [
      "No existe sudadera en el inventario. Añadido!\n"
     ]
    }
   ],
   "source": [
    "tienda.agregar_productos(\"sudadera\",25,90)"
   ]
  },
  {
   "cell_type": "code",
   "execution_count": 16,
   "metadata": {},
   "outputs": [
    {
     "data": {
      "text/plain": [
       "{'inventario': [{'nombre': 'camisa', 'precio': 20, 'cantidad': 30},\n",
       "  {'nombre': 'pantalon', 'precio': 40, 'cantidad': 60},\n",
       "  {'nombre': 'camisa', 'precio': 20, 'cantidad': 50},\n",
       "  {'nombre': 'sudadera', 'precio': 25, 'cantidad': 90}],\n",
       " 'ventas_totales': 0}"
      ]
     },
     "execution_count": 16,
     "metadata": {},
     "output_type": "execute_result"
    }
   ],
   "source": [
    "tienda.__dict__"
   ]
  },
  {
   "cell_type": "code",
   "execution_count": 17,
   "metadata": {},
   "outputs": [
    {
     "name": "stdout",
     "output_type": "stream",
     "text": [
      "El inventario es [{'nombre': 'camisa', 'precio': 20, 'cantidad': 30}, {'nombre': 'pantalon', 'precio': 40, 'cantidad': 60}, {'nombre': 'camisa', 'precio': 20, 'cantidad': 50}, {'nombre': 'sudadera', 'precio': 25, 'cantidad': 90}]\n"
     ]
    }
   ],
   "source": [
    "tienda.ver_inventario()"
   ]
  },
  {
   "cell_type": "code",
   "execution_count": 8,
   "metadata": {},
   "outputs": [
    {
     "data": {
      "text/plain": [
       "{'inventario': [{'nombre': 'camisa', 'precio': 20, 'cantidad': 30},\n",
       "  {'nombre': 'pantalon', 'precio': 40, 'cantidad': 60},\n",
       "  {'nombre': 'camisa', 'precio': 20, 'cantidad': 50},\n",
       "  {'nombre': 'sudadera', 'precio': 25, 'cantidad': 90}],\n",
       " 'ventas_totales': 0}"
      ]
     },
     "execution_count": 8,
     "metadata": {},
     "output_type": "execute_result"
    }
   ],
   "source": [
    "tienda.__dict__"
   ]
  },
  {
   "cell_type": "code",
   "execution_count": 11,
   "metadata": {},
   "outputs": [
    {
     "name": "stdout",
     "output_type": "stream",
     "text": [
      "El producto que buscas no existe\n",
      "El producto que buscas no existe\n",
      "El producto que buscas no existe\n",
      "El producto que buscas no existe\n"
     ]
    }
   ],
   "source": [
    "tienda.buscar_producto(\"camisa\")"
   ]
  },
  {
   "cell_type": "code",
   "execution_count": 48,
   "metadata": {},
   "outputs": [],
   "source": [
    "class TiendaOnline:\n",
    "\n",
    "    def __init__(self,inventario, ventas_totales):\n",
    "        self.inventario = [{\"nombre\": 'camisa', 'precio': 20, 'cantidad': 30},\n",
    "  {'nombre': 'pantalon', 'precio': 40, 'cantidad': 60},\n",
    "  {'nombre': 'sudadera', 'precio': 25, 'cantidad': 90}]\n",
    "        self.ventas_totales =ventas_totales\n",
    "\n",
    "    # quinto metodo: eliminar producto (eliminamos el diccionario entero de la lista), eliminar un elemento de una lista\n",
    "\n",
    "    def eliminar_producto(self,nombre):\n",
    "        for i in self.inventario:\n",
    "            if i[\"nombre\"] == nombre:\n",
    "                self.inventario.remove(i)\n",
    "                print(f\"He borrado {nombre} del inventario. Inventario actualizado\")\n",
    "                return\n",
    "            \n",
    "        print(\"No he encontrado el producto\")\n",
    "\n",
    "    "
   ]
  },
  {
   "cell_type": "code",
   "execution_count": 49,
   "metadata": {},
   "outputs": [],
   "source": [
    "tienda = TiendaOnline([],0)"
   ]
  },
  {
   "cell_type": "markdown",
   "metadata": {},
   "source": [
    "tienda.eliminar_producto(\"camisa\")"
   ]
  },
  {
   "cell_type": "code",
   "execution_count": 50,
   "metadata": {},
   "outputs": [
    {
     "name": "stdout",
     "output_type": "stream",
     "text": [
      "He borrado camisa del inventario. Inventario actualizado\n"
     ]
    }
   ],
   "source": [
    "tienda.eliminar_producto(\"camisa\")"
   ]
  },
  {
   "cell_type": "code",
   "execution_count": 51,
   "metadata": {},
   "outputs": [
    {
     "data": {
      "text/plain": [
       "{'inventario': [{'nombre': 'pantalon', 'precio': 40, 'cantidad': 60},\n",
       "  {'nombre': 'sudadera', 'precio': 25, 'cantidad': 90}],\n",
       " 'ventas_totales': 0}"
      ]
     },
     "execution_count": 51,
     "metadata": {},
     "output_type": "execute_result"
    }
   ],
   "source": [
    "tienda.__dict__"
   ]
  },
  {
   "cell_type": "code",
   "execution_count": 33,
   "metadata": {},
   "outputs": [
    {
     "data": {
      "text/plain": [
       "{'inventario': [{'nombre': 'camisa', 'precio': 20, 'cantidad': 30},\n",
       "  {'nombre': 'pantalon', 'precio': 40, 'cantidad': 60},\n",
       "  {'nombre': 'sudadera', 'precio': 25, 'cantidad': 90}],\n",
       " 'ventas_totales': 0}"
      ]
     },
     "execution_count": 33,
     "metadata": {},
     "output_type": "execute_result"
    }
   ],
   "source": [
    "tienda.__dict__"
   ]
  },
  {
   "cell_type": "code",
   "execution_count": 45,
   "metadata": {},
   "outputs": [],
   "source": [
    "# metodo 6\n",
    "\n",
    "# calcular_valor_inventario(self)\n",
    "\n",
    "class TiendaOnline:\n",
    "\n",
    "    def __init__(self,inventario, ventas_totales):\n",
    "        self.inventario = [{\"nombre\": 'camisa', 'precio': 20, 'cantidad': 30},\n",
    "  {'nombre': 'pantalon', 'precio': 40, 'cantidad': 60},\n",
    "  {'nombre': 'sudadera', 'precio': 25, 'cantidad': 90}]\n",
    "        self.ventas_totales =ventas_totales\n",
    "\n",
    "    def calcular_valor_inventario(self):\n",
    "        for i in self.inventario:\n",
    "            total= self.inventario[cantidad]*self.inventario[precio]\n",
    "            print(f\"El valor del inventario es {total}\")"
   ]
  },
  {
   "cell_type": "code",
   "execution_count": 46,
   "metadata": {},
   "outputs": [],
   "source": [
    "tienda = TiendaOnline([],0)"
   ]
  },
  {
   "cell_type": "code",
   "execution_count": 47,
   "metadata": {},
   "outputs": [
    {
     "ename": "NameError",
     "evalue": "name 'cantidad' is not defined",
     "output_type": "error",
     "traceback": [
      "\u001b[1;31m---------------------------------------------------------------------------\u001b[0m",
      "\u001b[1;31mNameError\u001b[0m                                 Traceback (most recent call last)",
      "Cell \u001b[1;32mIn[47], line 1\u001b[0m\n\u001b[1;32m----> 1\u001b[0m \u001b[43mtienda\u001b[49m\u001b[38;5;241;43m.\u001b[39;49m\u001b[43mcalcular_valor_inventario\u001b[49m\u001b[43m(\u001b[49m\u001b[43m)\u001b[49m\n",
      "Cell \u001b[1;32mIn[45], line 15\u001b[0m, in \u001b[0;36mTiendaOnline.calcular_valor_inventario\u001b[1;34m(self)\u001b[0m\n\u001b[0;32m     13\u001b[0m \u001b[38;5;28;01mdef\u001b[39;00m \u001b[38;5;21mcalcular_valor_inventario\u001b[39m(\u001b[38;5;28mself\u001b[39m):\n\u001b[0;32m     14\u001b[0m     \u001b[38;5;28;01mfor\u001b[39;00m i \u001b[38;5;129;01min\u001b[39;00m \u001b[38;5;28mself\u001b[39m\u001b[38;5;241m.\u001b[39minventario:\n\u001b[1;32m---> 15\u001b[0m         total\u001b[38;5;241m=\u001b[39m \u001b[38;5;28mself\u001b[39m\u001b[38;5;241m.\u001b[39minventario[\u001b[43mcantidad\u001b[49m]\u001b[38;5;241m*\u001b[39m\u001b[38;5;28mself\u001b[39m\u001b[38;5;241m.\u001b[39minventario[precio]\n\u001b[0;32m     16\u001b[0m         \u001b[38;5;28mprint\u001b[39m(\u001b[38;5;124mf\u001b[39m\u001b[38;5;124m\"\u001b[39m\u001b[38;5;124mEl valor del inventario es \u001b[39m\u001b[38;5;132;01m{\u001b[39;00mtotal\u001b[38;5;132;01m}\u001b[39;00m\u001b[38;5;124m\"\u001b[39m)\n",
      "\u001b[1;31mNameError\u001b[0m: name 'cantidad' is not defined"
     ]
    }
   ],
   "source": [
    "tienda.calcular_valor_inventario()"
   ]
  },
  {
   "cell_type": "code",
   "execution_count": 48,
   "metadata": {},
   "outputs": [],
   "source": [
    "# metodo 6\n",
    "\n",
    "# calcular_valor_inventario(self)\n",
    "\n",
    "class TiendaOnline:\n",
    "\n",
    "    def __init__(self,inventario, ventas_totales):\n",
    "        self.inventario = [{\"nombre\": 'camisa', 'precio': 20, 'cantidad': 30},\n",
    "  {'nombre': 'pantalon', 'precio': 40, 'cantidad': 60},\n",
    "  {'nombre': 'sudadera', 'precio': 25, 'cantidad': 90}]\n",
    "        self.ventas_totales =ventas_totales\n",
    "\n",
    "    def calcular_valor_inventario(self):\n",
    "        valor_inventario=0\n",
    "        for i in self.inventario:\n",
    "            total= i.values([\"cantidad\"])*i.values([\"precio\"])\n",
    "            valor_inventario +=total\n",
    "            print(f\"El valor del inventario es {valor_inventario}\")"
   ]
  },
  {
   "cell_type": "code",
   "execution_count": 55,
   "metadata": {},
   "outputs": [],
   "source": [
    "# metodo 6\n",
    "\n",
    "# calcular_valor_inventario(self)\n",
    "\n",
    "class TiendaOnline:\n",
    "\n",
    "    def __init__(self,inventario, ventas_totales):\n",
    "        self.inventario = [{\"nombre\": 'camisa', 'precio': 20, 'cantidad': 30},\n",
    "  {'nombre': 'pantalon', 'precio': 40, 'cantidad': 60},\n",
    "  {'nombre': 'sudadera', 'precio': 25, 'cantidad': 90}]\n",
    "        self.ventas_totales =ventas_totales\n",
    "\n",
    "    def calcular_valor_inventario(self):\n",
    "        valor_inventario=0\n",
    "        for i in self.inventario:\n",
    "            total= i[\"cantidad\"]*i[\"precio\"]\n",
    "            valor_inventario +=total\n",
    "        print(f\"El valor del inventario es {valor_inventario} €\")"
   ]
  },
  {
   "cell_type": "code",
   "execution_count": 56,
   "metadata": {},
   "outputs": [],
   "source": [
    "tienda = TiendaOnline([],0)"
   ]
  },
  {
   "cell_type": "code",
   "execution_count": 58,
   "metadata": {},
   "outputs": [
    {
     "name": "stdout",
     "output_type": "stream",
     "text": [
      "El valor del inventario es 5250 €\n"
     ]
    }
   ],
   "source": [
    "tienda.calcular_valor_inventario()"
   ]
  },
  {
   "cell_type": "code",
   "execution_count": 59,
   "metadata": {},
   "outputs": [
    {
     "data": {
      "text/plain": [
       "5250"
      ]
     },
     "execution_count": 59,
     "metadata": {},
     "output_type": "execute_result"
    }
   ],
   "source": [
    "#lo compruebo a mano:\n",
    "(20*30)+(40*60)+(25*90)"
   ]
  },
  {
   "cell_type": "code",
   "execution_count": 1,
   "metadata": {},
   "outputs": [],
   "source": [
    "class TiendaOnline:\n",
    "\n",
    "    def __init__(self,inventario, ventas_totales):\n",
    "        self.inventario = [{\"nombre\": 'camisa', 'precio': 20, 'cantidad': 30},\n",
    "  {'nombre': 'pantalon', 'precio': 40, 'cantidad': 60},\n",
    "  {'nombre': 'sudadera', 'precio': 25, 'cantidad': 90}]\n",
    "        self.ventas_totales =ventas_totales\n",
    "\n",
    "    def agregar_productos(self, nombre, precio, cantidad):\n",
    "    \n",
    "       for i in self.inventario:\n",
    "            if i[\"nombre\"] == nombre:\n",
    "                i[\"cantidad\"] += cantidad\n",
    "                print(f\"{nombre} está en el inventario, actualizo la cantidad\")\n",
    "            else:\n",
    "                producto ={\"nombre\":nombre, \"precio\":precio,\"cantidad\": cantidad}\n",
    "                self.inventario.append(producto)\n",
    "                print(f\"No existe {nombre} en el inventario. Añadido!\")\n",
    "                break\n",
    "                \n"
   ]
  },
  {
   "cell_type": "code",
   "execution_count": 2,
   "metadata": {},
   "outputs": [],
   "source": [
    "tienda = TiendaOnline([],0)"
   ]
  },
  {
   "cell_type": "code",
   "execution_count": 3,
   "metadata": {},
   "outputs": [
    {
     "name": "stdout",
     "output_type": "stream",
     "text": [
      "No existe gorra en el inventario. Añadido!\n"
     ]
    }
   ],
   "source": [
    "tienda.agregar_productos(\"gorra\",15,80)"
   ]
  },
  {
   "cell_type": "code",
   "execution_count": 4,
   "metadata": {},
   "outputs": [
    {
     "data": {
      "text/plain": [
       "{'inventario': [{'nombre': 'camisa', 'precio': 20, 'cantidad': 30},\n",
       "  {'nombre': 'pantalon', 'precio': 40, 'cantidad': 60},\n",
       "  {'nombre': 'sudadera', 'precio': 25, 'cantidad': 90},\n",
       "  {'nombre': 'gorra', 'precio': 15, 'cantidad': 80}],\n",
       " 'ventas_totales': 0}"
      ]
     },
     "execution_count": 4,
     "metadata": {},
     "output_type": "execute_result"
    }
   ],
   "source": [
    "tienda.__dict__"
   ]
  },
  {
   "cell_type": "code",
   "execution_count": 5,
   "metadata": {},
   "outputs": [
    {
     "name": "stdout",
     "output_type": "stream",
     "text": [
      "camisa está en el inventario, actualizo la cantidad\n",
      "No existe camisa en el inventario. Añadido!\n"
     ]
    }
   ],
   "source": [
    "tienda.agregar_productos(\"camisa\", 20, 40)"
   ]
  },
  {
   "cell_type": "code",
   "execution_count": 6,
   "metadata": {},
   "outputs": [
    {
     "name": "stdout",
     "output_type": "stream",
     "text": [
      "camisa está en el inventario, actualizo la cantidad\n",
      "No existe camisa en el inventario. Añadido!\n"
     ]
    }
   ],
   "source": [
    "tienda.agregar_productos(\"camisa\",20,20)"
   ]
  },
  {
   "cell_type": "code",
   "execution_count": 7,
   "metadata": {},
   "outputs": [
    {
     "data": {
      "text/plain": [
       "{'inventario': [{'nombre': 'camisa', 'precio': 20, 'cantidad': 90},\n",
       "  {'nombre': 'pantalon', 'precio': 40, 'cantidad': 60},\n",
       "  {'nombre': 'sudadera', 'precio': 25, 'cantidad': 90},\n",
       "  {'nombre': 'gorra', 'precio': 15, 'cantidad': 80},\n",
       "  {'nombre': 'camisa', 'precio': 20, 'cantidad': 40},\n",
       "  {'nombre': 'camisa', 'precio': 20, 'cantidad': 20}],\n",
       " 'ventas_totales': 0}"
      ]
     },
     "execution_count": 7,
     "metadata": {},
     "output_type": "execute_result"
    }
   ],
   "source": [
    "tienda.__dict__"
   ]
  },
  {
   "cell_type": "code",
   "execution_count": 1,
   "metadata": {},
   "outputs": [
    {
     "ename": "SyntaxError",
     "evalue": "unterminated string literal (detected at line 11) (1737166820.py, line 11)",
     "output_type": "error",
     "traceback": [
      "\u001b[1;36m  Cell \u001b[1;32mIn[1], line 11\u001b[1;36m\u001b[0m\n\u001b[1;33m    print(\"Nombre:\"[\"nombre\"], \"Precio:\"[precio],\"Cantidad:\"[cantidad]\")\u001b[0m\n\u001b[1;37m                                                                      ^\u001b[0m\n\u001b[1;31mSyntaxError\u001b[0m\u001b[1;31m:\u001b[0m unterminated string literal (detected at line 11)\n"
     ]
    }
   ],
   "source": [
    "class TiendaOnline:\n",
    "\n",
    "    def __init__(self,inventario, ventas_totales):\n",
    "        self.inventario = [{\"nombre\": 'camisa', 'precio': 20, 'cantidad': 30},\n",
    "  {'nombre': 'pantalon', 'precio': 40, 'cantidad': 60},\n",
    "  {'nombre': 'sudadera', 'precio': 25, 'cantidad': 90}]\n",
    "        self.ventas_totales =ventas_totales\n",
    "\n",
    "    def ver_inventario(self):\n",
    "        for d in self.inventario:\n",
    "            print(\"Nombre:\"[\"nombre\"], \"Precio:\"[precio],\"Cantidad:\"[cantidad]\")\n",
    "\n",
    "\n",
    "                \n"
   ]
  },
  {
   "cell_type": "code",
   "execution_count": 20,
   "metadata": {},
   "outputs": [],
   "source": [
    "tienda = TiendaOnline([],0)"
   ]
  },
  {
   "cell_type": "code",
   "execution_count": 21,
   "metadata": {},
   "outputs": [
    {
     "name": "stdout",
     "output_type": "stream",
     "text": [
      "El valor del inventario es 5250 €\n"
     ]
    }
   ],
   "source": [
    "tienda.calcular_valor_inventario()"
   ]
  },
  {
   "cell_type": "code",
   "execution_count": 11,
   "metadata": {},
   "outputs": [
    {
     "data": {
      "text/plain": [
       "{'inventario': [{'nombre': 'camisa', 'precio': 20, 'cantidad': 30},\n",
       "  {'nombre': 'pantalon', 'precio': 40, 'cantidad': 60},\n",
       "  {'nombre': 'sudadera', 'precio': 25, 'cantidad': 90}],\n",
       " 'ventas_totales': 0}"
      ]
     },
     "execution_count": 11,
     "metadata": {},
     "output_type": "execute_result"
    }
   ],
   "source": [
    "tienda.__dict__"
   ]
  },
  {
   "cell_type": "code",
   "execution_count": 55,
   "metadata": {},
   "outputs": [],
   "source": [
    "class TiendaOnline:\n",
    "\n",
    "    def __init__(self,inventario, ventas_totales):\n",
    "        self.inventario = []\n",
    "        self.ventas_totales =ventas_totales\n",
    "# PRIMER MÉTODO: agregar_producto(self, nombre, precio, cantidad) Nos permite: FUNCIONA\n",
    "\n",
    "    def agregar_productos(self, nombre, precio, cantidad):\n",
    "    \n",
    "       for i in self.inventario:\n",
    "            if i[\"nombre\"] == nombre:\n",
    "                i[\"cantidad\"] += cantidad\n",
    "                print(f\"{nombre} está en el inventario, actualizo la cantidad\")\n",
    "                return\n",
    "            else:\n",
    "                producto ={\"nombre\":nombre, \"precio\":precio,\"cantidad\": cantidad}\n",
    "                self.inventario.append(producto)\n",
    "                print(f\"No existe {nombre} en el inventario. Añadido!\")\n",
    "                break"
   ]
  },
  {
   "cell_type": "code",
   "execution_count": 56,
   "metadata": {},
   "outputs": [],
   "source": [
    "tienda =TiendaOnline([],0)"
   ]
  },
  {
   "cell_type": "code",
   "execution_count": 57,
   "metadata": {},
   "outputs": [],
   "source": [
    "tienda.agregar_productos(\"camisa\",20,30)"
   ]
  }
 ],
 "metadata": {
  "kernelspec": {
   "display_name": "Python 3",
   "language": "python",
   "name": "python3"
  },
  "language_info": {
   "codemirror_mode": {
    "name": "ipython",
    "version": 3
   },
   "file_extension": ".py",
   "mimetype": "text/x-python",
   "name": "python",
   "nbconvert_exporter": "python",
   "pygments_lexer": "ipython3",
   "version": "3.12.7"
  }
 },
 "nbformat": 4,
 "nbformat_minor": 2
}
