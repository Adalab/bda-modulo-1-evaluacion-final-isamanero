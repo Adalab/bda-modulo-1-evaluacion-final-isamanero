{
 "cells": [
  {
   "cell_type": "markdown",
   "metadata": {},
   "source": [
    "# Evaluación Final Módulo 1 Data Analytics\n"
   ]
  },
  {
   "cell_type": "code",
   "execution_count": null,
   "metadata": {},
   "outputs": [],
   "source": [
    "# Creo la clase llamada TiendaOnline:\n",
    "\n",
    "class TiendaOnline:\n",
    "\n",
    "    def __init__(self,inventario, ventas_totales):\n",
    "        self.inventario = []\n",
    "        self.ventas_totales =ventas_totales\n",
    "\"\"\" He creado la clase con los dos atributos, self.inventario [es una lista de diccionarios, que se irán añadiendo después]\n",
    "y self.ventas_totales, que es un float, definida como ventas_totales\"\"\""
   ]
  },
  {
   "cell_type": "code",
   "execution_count": null,
   "metadata": {},
   "outputs": [],
   "source": [
    "# PRIMER MÉTODO: agregar_producto(self, nombre, precio, cantidad) Nos permite: FUNCIONA\n",
    "\n",
    "def agregar_productos(self, nombre, precio, cantidad):\n",
    "    \n",
    "       for i in self.inventario:\n",
    "            if i[\"nombre\"] == nombre:\n",
    "                i[\"cantidad\"] += cantidad\n",
    "                print(f\"{nombre} está en el inventario, actualizo la cantidad\")\n",
    "                return\n",
    "            else:\n",
    "                producto ={\"nombre\":nombre, \"precio\":precio,\"cantidad\": cantidad}\n",
    "                self.inventario.append(producto)\n",
    "                print(f\"No existe {nombre} en el inventario. Añadido!\")\n",
    "                break\n",
    "                \n",
    "    \"\"\"aqui me he vuelto un poco loca con el break y el retunr, porque al principio los he puesto todo en el if\n",
    "    pensando que, si encontraba el producto se acualizaba la cantidad y rompía el bucle sin necesidad de\n",
    "    ejecutar el else, y si ejecutaba el else. Asi, si encuentra un producto, lo actualiza y sale de la función\n",
    "    ignorando el else y el break me saca del bucle for.\n",
    "\n",
    "    # Si no le pongo el return al primer if, me sigue sacando productos como productos nuevos, aunque se repitan por eso lo necesita, para salir del bucle."
   ]
  },
  {
   "cell_type": "code",
   "execution_count": null,
   "metadata": {},
   "outputs": [],
   "source": [
    "# SEGUNDO MÉTODO:ver_inventario(self) FUNCIONA (mirar lo del for)\n",
    "\n",
    "def ver_inventario(self):\n",
    "            print(f\"El inventario es {self.inventario}\") "
   ]
  },
  {
   "cell_type": "code",
   "execution_count": null,
   "metadata": {},
   "outputs": [],
   "source": [
    "# TERCER MÉTODO: buscar_producto(self, nombre) FUNCIONA\n",
    "def buscar_producto(self,nombre):\n",
    "        for i in self.inventario:\n",
    "            if i[\"nombre\"] == nombre:\n",
    "                print(f\"{nombre} está en el inventario\")\n",
    "                return\n",
    "        \n",
    "        print(f\"No se encuentra el producto\")"
   ]
  },
  {
   "cell_type": "code",
   "execution_count": null,
   "metadata": {},
   "outputs": [],
   "source": [
    "# CUARTO MÉTODO: actualizar_stock(self, nombre, cantidad) FUNCIONA\n",
    "\n",
    "\n",
    "def actualizar_stock(self, nombre,cantidad):\n",
    "        for i in self.inventario:\n",
    "            if i[\"nombre\"] == nombre:\n",
    "                i[\"cantidad\"] =cantidad #SI QUISIERAMOS SUMARLE un stock extra al stock existente, sería: i[\"cantidad\"] +=cantidad\n",
    "                print(f\"Se ha actualizado el stock para {nombre} y ahora tiene {cantidad} unidades\")\n",
    "                return\n",
    "        print(f\"No existe el producto a actualizar\")"
   ]
  },
  {
   "cell_type": "code",
   "execution_count": null,
   "metadata": {},
   "outputs": [],
   "source": [
    "# QUINTO MÉTODO: eliminar_producto(self, nombre)"
   ]
  },
  {
   "cell_type": "code",
   "execution_count": null,
   "metadata": {},
   "outputs": [],
   "source": [
    "# SEXTO MÉTODO: calcular_valor_inventario(self) FUNCIONA\n",
    "\n",
    "def calcular_valor_inventario(self):\n",
    "        valor_inventario=0\n",
    "        for i in self.inventario:\n",
    "            total= i[\"cantidad\"]*i[\"precio\"]\n",
    "            valor_inventario +=total\n",
    "        print(f\"El valor del inventario es {valor_inventario} €\")"
   ]
  },
  {
   "cell_type": "code",
   "execution_count": null,
   "metadata": {},
   "outputs": [],
   "source": [
    "# Aqui lo compruebo manualmente, para comprobar que el método funciona."
   ]
  },
  {
   "cell_type": "code",
   "execution_count": null,
   "metadata": {},
   "outputs": [],
   "source": [
    "# He preferido hacer los métodos de forma independiente (indicados), ya que sin el constructor previo no se muestra.\n",
    "# Y ahora a continuación, aparece la clase completa, junto con las pruebas a realizar:"
   ]
  }
 ],
 "metadata": {
  "kernelspec": {
   "display_name": "Python 3",
   "language": "python",
   "name": "python3"
  },
  "language_info": {
   "name": "python",
   "version": "3.12.7"
  }
 },
 "nbformat": 4,
 "nbformat_minor": 2
}
