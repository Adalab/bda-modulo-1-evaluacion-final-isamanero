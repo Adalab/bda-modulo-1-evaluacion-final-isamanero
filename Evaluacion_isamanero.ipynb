{
 "cells": [
  {
   "cell_type": "markdown",
   "metadata": {},
   "source": [
    "# Evaluación Final Módulo 1 Data Analytics\n"
   ]
  },
  {
   "cell_type": "code",
   "execution_count": null,
   "metadata": {},
   "outputs": [],
   "source": [
    "# Creo la clase llamada TiendaOnline:\n",
    "\n",
    "class TiendaOnline:\n",
    "\n",
    "    def __init__(self,inventario, ventas_totales):\n",
    "        self.inventario = []\n",
    "        self.ventas_totales =ventas_totales\n",
    "\"\"\" He creado la clase con los dos atributos, self.inventario [es una lista de diccionarios, que se irán añadiendo después]\n",
    "y self.ventas_totales, que es un float, definida como ventas_totales\"\"\""
   ]
  },
  {
   "cell_type": "code",
   "execution_count": null,
   "metadata": {},
   "outputs": [],
   "source": [
    "# PRIMER MÉTODO: agregar_producto(self, nombre, precio, cantidad) Nos permite:\n",
    "\n",
    "def agregar_productos(self, nombre, precio, cantidad):\n",
    "            if nombre in self.inventario:\n",
    "                producto ={\"nombre\":nombre, \"precio\":precio,\"cantidad\": cantidad}\n",
    "                self.inventario.append(cantidad)\n",
    "                print(f\"Ya existe el producto {nombre}, actualizo la cantidad en {cantidad} unidades\")\n",
    "            else:\n",
    "                producto ={\"nombre\":nombre, \"precio\":precio,\"cantidad\": cantidad}\n",
    "                self.inventario.append(producto)\n",
    "                print(f\"No existe {nombre} en el inventario. Añadido!\")"
   ]
  }
 ],
 "metadata": {
  "kernelspec": {
   "display_name": "Python 3",
   "language": "python",
   "name": "python3"
  },
  "language_info": {
   "name": "python",
   "version": "3.12.7"
  }
 },
 "nbformat": 4,
 "nbformat_minor": 2
}
