{
 "cells": [
  {
   "cell_type": "markdown",
   "metadata": {},
   "source": [
    "# Evaluación Final Módulo 1 Data Analytics\n"
   ]
  },
  {
   "cell_type": "code",
   "execution_count": null,
   "metadata": {},
   "outputs": [],
   "source": [
    "# Creo la clase llamada TiendaOnline:\n",
    "\n",
    "class TiendaOnline:\n",
    "\n",
    "    def __init__(self,inventario, ventas_totales):\n",
    "        self.inventario = []\n",
    "        self.ventas_totales =ventas_totales\n",
    "\"\"\" He creado la clase con los dos atributos, self.inventario [es una lista de diccionarios, que se irán añadiendo después]\n",
    "y self.ventas_totales, que es un float, definida como ventas_totales\"\"\""
   ]
  },
  {
   "cell_type": "code",
   "execution_count": null,
   "metadata": {},
   "outputs": [],
   "source": [
    "# PRIMER MÉTODO: agregar_producto(self, nombre, precio, cantidad) Nos permite:\n",
    "\n",
    "def agregar_productos(self, nombre, precio, cantidad):\n",
    "            if nombre in self.inventario:\n",
    "                producto ={\"nombre\":nombre, \"precio\":precio,\"cantidad\": cantidad}\n",
    "                self.inventario.append(cantidad)\n",
    "                print(f\"Ya existe el producto {nombre}, actualizo la cantidad en {cantidad} unidades\")\n",
    "            else:\n",
    "                producto ={\"nombre\":nombre, \"precio\":precio,\"cantidad\": cantidad}\n",
    "                self.inventario.append(producto)\n",
    "                print(f\"No existe {nombre} en el inventario. Añadido!\")"
   ]
  },
  {
   "cell_type": "code",
   "execution_count": null,
   "metadata": {},
   "outputs": [],
   "source": [
    "# SEGUNDO MÉTODO:ver_inventario(self)\n",
    "\n",
    "def ver_inventario(self):\n",
    "            print(f\"El inventario es {self.inventario}\") #este me funciona pero no he usado for...mirar!!"
   ]
  },
  {
   "cell_type": "code",
   "execution_count": null,
   "metadata": {},
   "outputs": [],
   "source": [
    "# TERCER MÉTODO: buscar_producto(self, nombre)\n",
    "def buscar_producto(self,nombre):\n",
    "        for i in self.inventario:\n",
    "            if i[\"nombre\"] == nombre:\n",
    "                print(f\"{nombre} está en el inventario\")\n",
    "                return\n",
    "        \n",
    "        print(f\"No se encuentra el producto\")"
   ]
  },
  {
   "cell_type": "code",
   "execution_count": null,
   "metadata": {},
   "outputs": [],
   "source": [
    "# CUARTO MÉTODO: actualizar_stock(self, nombre, cantidad)\n",
    "\n",
    "\n",
    "def actualizar_stock(self, nombre,cantidad):\n",
    "        for i in self.inventario:\n",
    "            if i[\"nombre\"] == nombre:\n",
    "                i[\"cantidad\"] =cantidad #SI QUISIERAMOS SUMARLE un stock extra al stock existente, sería: i[\"cantidad\"] +=cantidad\n",
    "                print(f\"Se ha actualizado el stock para{nombre} y ahora tiene {cantidad} unidades\")\n",
    "                return\n",
    "        print(f\"No existe el producto a actualizar\")"
   ]
  },
  {
   "cell_type": "code",
   "execution_count": null,
   "metadata": {},
   "outputs": [],
   "source": [
    "# QUINTO MÉTODO: eliminar_producto(self, nombre)"
   ]
  },
  {
   "cell_type": "code",
   "execution_count": null,
   "metadata": {},
   "outputs": [],
   "source": [
    "# SEXTO MÉTODO: calcular_valor_inventario(self)"
   ]
  }
 ],
 "metadata": {
  "kernelspec": {
   "display_name": "Python 3",
   "language": "python",
   "name": "python3"
  },
  "language_info": {
   "name": "python",
   "version": "3.12.7"
  }
 },
 "nbformat": 4,
 "nbformat_minor": 2
}
